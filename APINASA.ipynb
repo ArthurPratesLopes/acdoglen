{
  "nbformat": 4,
  "nbformat_minor": 0,
  "metadata": {
    "colab": {
      "provenance": [],
      "toc_visible": true
    },
    "kernelspec": {
      "name": "python3",
      "display_name": "Python 3"
    },
    "language_info": {
      "name": "python"
    }
  },
  "cells": [
    {
      "cell_type": "code",
      "execution_count": 1,
      "metadata": {
        "id": "pv-IOcm4sB8y"
      },
      "outputs": [],
      "source": [
        "import requests"
      ]
    },
    {
      "cell_type": "code",
      "source": [
        "resposta = requests.get(\"https://api.nasa.gov/mars-photos/api/v1/rovers/curiosity/photos?sol=100&api_key=reAgZliWVfjNv76dePEgU9qEtiy6McphCPbk3Lkk&camera=MARDI\")\n",
        "print(resposta)\n",
        "resposta_json = resposta.json()\n",
        "for i in resposta_json['photos']:\n",
        "  print(f'O link da foto é: ',i['img_src'])\n",
        "\n",
        ""
      ],
      "metadata": {
        "colab": {
          "base_uri": "https://localhost:8080/"
        },
        "id": "E9qTm-iY0tAw",
        "outputId": "d9954ed8-5106-4dfe-e42b-11a3ad2e4cd6"
      },
      "execution_count": 46,
      "outputs": [
        {
          "output_type": "stream",
          "name": "stdout",
          "text": [
            "<Response [200]>\n",
            "O link da foto é:  http://mars.jpl.nasa.gov/msl-raw-images/msss/00100/mrdi/0100MD0000340000101525I01_DXXX.jpg\n",
            "O link da foto é:  http://mars.jpl.nasa.gov/msl-raw-images/msss/00100/mrdi/0100MD0000350000101526E01_DXXX.jpg\n",
            "O link da foto é:  http://mars.jpl.nasa.gov/msl-raw-images/msss/00100/mrdi/0100MD0000340000101525E01_DXXX.jpg\n",
            "O link da foto é:  http://mars.jpl.nasa.gov/msl-raw-images/msss/00100/mrdi/0100MD0000350000101526I01_DXXX.jpg\n"
          ]
        }
      ]
    }
  ]
}